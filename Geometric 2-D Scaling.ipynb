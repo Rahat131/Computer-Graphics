{
 "cells": [
  {
   "cell_type": "code",
   "execution_count": 1,
   "metadata": {},
   "outputs": [
    {
     "data": {
      "text/plain": [
       "'\\nFile: 2 Dimensional Geometric Scaling,\\nAuthor: ABDUL HASIB UDDIN,\\nE-mail: abdulhasibuddin@gmail.com,\\nLicence: MIT\\n'"
      ]
     },
     "execution_count": 1,
     "metadata": {},
     "output_type": "execute_result"
    }
   ],
   "source": [
    "'''\n",
    "File: 2 Dimensional Geometric Scaling,\n",
    "Author: ABDUL HASIB UDDIN,\n",
    "E-mail: abdulhasibuddin@gmail.com,\n",
    "Licence: MIT\n",
    "'''"
   ]
  },
  {
   "cell_type": "code",
   "execution_count": 2,
   "metadata": {},
   "outputs": [],
   "source": [
    "#Importing necessary libraries:\n",
    "import matplotlib.pyplot as plt"
   ]
  },
  {
   "cell_type": "code",
   "execution_count": 3,
   "metadata": {},
   "outputs": [],
   "source": [
    "#Function for common raster with 4 co-ordinates:\n",
    "def printRaster():\n",
    "    plt.grid()\n",
    "    plt.xlabel(\"X-axis\")\n",
    "    plt.ylabel(\"Y-axis\")\n",
    "    plt.plot([0.0,0.0], [-1.0*(rasterSize/2),(rasterSize/2)], color=\"black\")\n",
    "    plt.plot([-1.0*(rasterSize/2),(rasterSize/2)], [0.0,0.0], color=\"black\")"
   ]
  },
  {
   "cell_type": "code",
   "execution_count": 4,
   "metadata": {},
   "outputs": [
    {
     "name": "stdout",
     "output_type": "stream",
     "text": [
      "Enter Raster Size: 40\n"
     ]
    }
   ],
   "source": [
    "#Input raster size:\n",
    "rasterSize = eval(input(\"Enter Raster Size: \"))"
   ]
  },
  {
   "cell_type": "code",
   "execution_count": 5,
   "metadata": {},
   "outputs": [
    {
     "data": {
      "image/png": "[encoded data removed]",
      "text/plain": [
       "<Figure size 432x288 with 1 Axes>"
      ]
     },
     "metadata": {},
     "output_type": "display_data"
    }
   ],
   "source": [
    "printRaster() #Calling function 'printRaster()'\n",
    "plt.show() #Displaying raster with 4 co-ordinates"
   ]
  },
  {
   "cell_type": "code",
   "execution_count": 6,
   "metadata": {},
   "outputs": [
    {
     "name": "stdout",
     "output_type": "stream",
     "text": [
      "Enter coordinates: 10.5 9 -9.5 10 -12 -13.5 12.3 -13 17 17\n"
     ]
    }
   ],
   "source": [
    "#Input co-ordinate values of the object points:\n",
    "input_points = input(\"Enter coordinates: \")"
   ]
  },
  {
   "cell_type": "code",
   "execution_count": 7,
   "metadata": {},
   "outputs": [
    {
     "data": {
      "text/plain": [
       "['10.5', '9', '-9.5', '10', '-12', '-13.5', '12.3', '-13', '17', '17']"
      ]
     },
     "execution_count": 7,
     "metadata": {},
     "output_type": "execute_result"
    }
   ],
   "source": [
    "points = input_points.split(\" \") #Splitting the 'points' list\n",
    "points #Not necessary"
   ]
  },
  {
   "cell_type": "code",
   "execution_count": 8,
   "metadata": {},
   "outputs": [],
   "source": [
    "x_list = [] #List for x-axis values of object points\n",
    "y_list = [] #List for y-axis values of object points\n",
    "\n",
    "#Convert the elements into float and split them into x & y co-ordinate values:\n",
    "for i in range (0, len(points)):\n",
    "    temp = float(points[i])\n",
    "    \n",
    "    if i%2 == 0: #If the position of current found string is even, then it is the value of x co-ordinate...\n",
    "        x_list.append(temp) #convert it into floating point from string and append into 'x_list';\n",
    "    else: #otherwise, it is the value of y co-ordinate...\n",
    "        y_list.append(temp) #convert it into floating point from string and append into 'y_list'."
   ]
  },
  {
   "cell_type": "code",
   "execution_count": 9,
   "metadata": {},
   "outputs": [],
   "source": [
    "x_list.append(x_list[0])"
   ]
  },
  {
   "cell_type": "code",
   "execution_count": 10,
   "metadata": {},
   "outputs": [
    {
     "data": {
      "text/plain": [
       "[10.5, -9.5, -12.0, 12.3, 17.0, 10.5]"
      ]
     },
     "execution_count": 10,
     "metadata": {},
     "output_type": "execute_result"
    }
   ],
   "source": [
    "x_list #Not necessary"
   ]
  },
  {
   "cell_type": "code",
   "execution_count": 11,
   "metadata": {},
   "outputs": [],
   "source": [
    "y_list.append(y_list[0])"
   ]
  },
  {
   "cell_type": "code",
   "execution_count": 12,
   "metadata": {},
   "outputs": [
    {
     "data": {
      "text/plain": [
       "[9.0, 10.0, -13.5, -13.0, 17.0, 9.0]"
      ]
     },
     "execution_count": 12,
     "metadata": {},
     "output_type": "execute_result"
    }
   ],
   "source": [
    "y_list #Not necessary"
   ]
  },
  {
   "cell_type": "code",
   "execution_count": 13,
   "metadata": {},
   "outputs": [
    {
     "data": {
      "image/png": "[encoded data removed]",
      "text/plain": [
       "<Figure size 432x288 with 1 Axes>"
      ]
     },
     "metadata": {},
     "output_type": "display_data"
    }
   ],
   "source": [
    "printRaster() #Calling function 'printRaster()'\n",
    "plt.title(\"Object before Scaling\") #Title of the figure\n",
    "plt.plot(x_list, y_list, label=\"previous\", marker='o', color='blue') #Plot & draw the original object\n",
    "plt.legend() #Plot legend\n",
    "plt.show() #Displaying original object"
   ]
  },
  {
   "cell_type": "code",
   "execution_count": null,
   "metadata": {},
   "outputs": [
    {
     "name": "stdout",
     "output_type": "stream",
     "text": [
      "Scaling ratio towards x-axis: 2\n"
     ]
    }
   ],
   "source": [
    "#Input Scaling Ratio:\n",
    "sx = float(input(\"Scaling ratio towards x-axis: \"))\n",
    "sy = float(input(\"Scaling ratio towards y-axis: \"))"
   ]
  },
  {
   "cell_type": "code",
   "execution_count": null,
   "metadata": {},
   "outputs": [],
   "source": [
    "scaled_x_list = [] #List for x-axis values of object points after scaling\n",
    "\n",
    "#Scaling x co-ordinate values:\n",
    "for i in x_list:\n",
    "    #x' = Sx*x:\n",
    "    scaled_x_list.append(i*float(sx))"
   ]
  },
  {
   "cell_type": "code",
   "execution_count": null,
   "metadata": {},
   "outputs": [],
   "source": [
    "scaled_x_list #Not necessary"
   ]
  },
  {
   "cell_type": "code",
   "execution_count": null,
   "metadata": {},
   "outputs": [],
   "source": [
    "scaled_y_list = [] #List for y-axis values of object points after scaling\n",
    "\n",
    "#Scaling y co-ordinate values:\n",
    "for i in y_list:\n",
    "    #y' = Sy*y:\n",
    "    scaled_y_list.append(i*float(sy))"
   ]
  },
  {
   "cell_type": "code",
   "execution_count": null,
   "metadata": {},
   "outputs": [],
   "source": [
    "scaled_y_list #Not necessary"
   ]
  },
  {
   "cell_type": "code",
   "execution_count": null,
   "metadata": {},
   "outputs": [],
   "source": [
    "printRaster() #Calling function to display the raster\n",
    "plt.title(\"2D Geometric Scaling\") #Title of the figure\n",
    "\n",
    "#Plotting and joining each corner points...\n",
    "plt.plot(x_list, y_list, label=\"previous\", marker='x', color='blue', linestyle='dotted') #of the original object,\n",
    "plt.plot(scaled_x_list, scaled_y_list, label=\"after\", marker='o', color='green') #and the scaled object.\n",
    "\n",
    "plt.legend()\n",
    "plt.show()"
   ]
  },
  {
   "cell_type": "code",
   "execution_count": null,
   "metadata": {},
   "outputs": [],
   "source": []
  }
 ],
 "metadata": {
  "kernelspec": {
   "display_name": "Python 3",
   "language": "python",
   "name": "python3"
  },
  "language_info": {
   "codemirror_mode": {
    "name": "ipython",
    "version": 3
   },
   "file_extension": ".py",
   "mimetype": "text/x-python",
   "name": "python",
   "nbconvert_exporter": "python",
   "pygments_lexer": "ipython3",
   "version": "3.6.4"
  }
 },
 "nbformat": 4,
 "nbformat_minor": 2
}

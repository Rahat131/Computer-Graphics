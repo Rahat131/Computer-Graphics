{
 "cells": [
  {
   "cell_type": "code",
   "execution_count": 1,
   "metadata": {},
   "outputs": [
    {
     "data": {
      "text/plain": [
       "'\\nAuthor: ABDUL HASIB UDDIN\\nE-mail: abdulhasibuddin@gmail.com\\nLicence: MIT\\n'"
      ]
     },
     "execution_count": 1,
     "metadata": {},
     "output_type": "execute_result"
    }
   ],
   "source": [
    "'''\n",
    "Author: ABDUL HASIB UDDIN\n",
    "E-mail: abdulhasibuddin@gmail.com\n",
    "Licence: MIT\n",
    "'''"
   ]
  },
  {
   "cell_type": "code",
   "execution_count": 2,
   "metadata": {},
   "outputs": [],
   "source": [
    "#Importing necessary libraries:\n",
    "import matplotlib.pyplot as plt\n",
    "import math"
   ]
  },
  {
   "cell_type": "code",
   "execution_count": 3,
   "metadata": {},
   "outputs": [],
   "source": [
    "#Function for common raster with 4 co-ordinates:\n",
    "def printRaster():\n",
    "    plt.grid()\n",
    "    plt.xlabel(\"X-axis\")\n",
    "    plt.ylabel(\"Y-axis\")\n",
    "    plt.plot([0.0,0.0], [-1.0*(rasterSize/2),(rasterSize/2)], color=\"black\") #Plotting XX'\n",
    "    plt.plot([-1.0*(rasterSize/2),(rasterSize/2)], [0.0,0.0], color=\"black\") #Plotting YY'"
   ]
  },
  {
   "cell_type": "code",
   "execution_count": 4,
   "metadata": {},
   "outputs": [
    {
     "name": "stdout",
     "output_type": "stream",
     "text": [
      "Enter Raster Size: 40\n"
     ]
    }
   ],
   "source": [
    "#Input raster size:\n",
    "rasterSize = eval(input(\"Enter Raster Size: \"))"
   ]
  },
  {
   "cell_type": "code",
   "execution_count": 5,
   "metadata": {},
   "outputs": [
    {
     "data": {
      "image/png": "[encoded data removed]",
      "text/plain": [
       "<Figure size 432x288 with 1 Axes>"
      ]
     },
     "metadata": {},
     "output_type": "display_data"
    }
   ],
   "source": [
    "printRaster() #Calling function 'printRaster()'\n",
    "plt.show() #Displaying raster with 4 co-ordinates"
   ]
  },
  {
   "cell_type": "code",
   "execution_count": 6,
   "metadata": {},
   "outputs": [
    {
     "name": "stdout",
     "output_type": "stream",
     "text": [
      "Enter Object Co-ordinates: 10.5 9 -9.5 10 -12 -13.5 12.3 -13 17 17\n"
     ]
    }
   ],
   "source": [
    "#Input co-ordinate values of the object points:\n",
    "input_points = input(\"Enter Object Co-ordinates: \")"
   ]
  },
  {
   "cell_type": "code",
   "execution_count": 7,
   "metadata": {},
   "outputs": [
    {
     "data": {
      "text/plain": [
       "['10.5', '9', '-9.5', '10', '-12', '-13.5', '12.3', '-13', '17', '17']"
      ]
     },
     "execution_count": 7,
     "metadata": {},
     "output_type": "execute_result"
    }
   ],
   "source": [
    "points = input_points.split(\" \") #Splitting the 'points' list\n",
    "points #Not necessary"
   ]
  },
  {
   "cell_type": "code",
   "execution_count": 8,
   "metadata": {},
   "outputs": [],
   "source": [
    "x_list = [] #List for x-axis values of object points\n",
    "y_list = [] #List for y-axis values of object points\n",
    "\n",
    "#Convert the elements into float and split them into x & y co-ordinate values:\n",
    "for i in range (0, len(points)):\n",
    "    temp = float(points[i])\n",
    "    \n",
    "    if i%2 == 0: #If the position of current found string is even, then it is the value of x co-ordinate...\n",
    "        x_list.append(temp) #convert it into floating point from string and append into 'x_list';\n",
    "    else: #otherwise, it is the value of y co-ordinate...\n",
    "        y_list.append(temp) #convert it into floating point from string and append into 'y_list'."
   ]
  },
  {
   "cell_type": "code",
   "execution_count": 9,
   "metadata": {},
   "outputs": [
    {
     "data": {
      "text/plain": [
       "5"
      ]
     },
     "execution_count": 9,
     "metadata": {},
     "output_type": "execute_result"
    }
   ],
   "source": [
    "num_points = len(x_list) #Number of total points of the object\n",
    "num_points #Not necessary"
   ]
  },
  {
   "cell_type": "code",
   "execution_count": 10,
   "metadata": {},
   "outputs": [],
   "source": [
    "#Append the first element of each axis list (x_list & y_list) to the last to draw line from the last point to the first point:"
   ]
  },
  {
   "cell_type": "code",
   "execution_count": 11,
   "metadata": {},
   "outputs": [
    {
     "data": {
      "text/plain": [
       "[10.5, -9.5, -12.0, 12.3, 17.0, 10.5]"
      ]
     },
     "execution_count": 11,
     "metadata": {},
     "output_type": "execute_result"
    }
   ],
   "source": [
    "x_list.append(x_list[0])\n",
    "x_list #Not necessary"
   ]
  },
  {
   "cell_type": "code",
   "execution_count": 12,
   "metadata": {},
   "outputs": [
    {
     "data": {
      "text/plain": [
       "[9.0, 10.0, -13.5, -13.0, 17.0, 9.0]"
      ]
     },
     "execution_count": 12,
     "metadata": {},
     "output_type": "execute_result"
    }
   ],
   "source": [
    "y_list.append(y_list[0])\n",
    "y_list #Not necessary"
   ]
  },
  {
   "cell_type": "code",
   "execution_count": 13,
   "metadata": {},
   "outputs": [
    {
     "data": {
      "image/png": "[encoded data removed]",
      "text/plain": [
       "<Figure size 432x288 with 1 Axes>"
      ]
     },
     "metadata": {},
     "output_type": "display_data"
    }
   ],
   "source": [
    "printRaster() #Calling function 'printRaster()'\n",
    "plt.title(\"Object before Rotation\") #Title of the figure\n",
    "plt.plot(x_list, y_list, label=\"previous\", marker='o', color='blue') #Plot & draw the original object\n",
    "plt.legend() #Plot legend\n",
    "plt.show() #Displaying original object"
   ]
  },
  {
   "cell_type": "code",
   "execution_count": 14,
   "metadata": {},
   "outputs": [
    {
     "name": "stdout",
     "output_type": "stream",
     "text": [
      "Enter Center of Rotation: -15 -14.7\n"
     ]
    },
    {
     "data": {
      "text/plain": [
       "'-15 -14.7'"
      ]
     },
     "execution_count": 14,
     "metadata": {},
     "output_type": "execute_result"
    }
   ],
   "source": [
    "ref = input(\"Enter Center of Rotation: \") #Input center of the rotation\n",
    "ref"
   ]
  },
  {
   "cell_type": "code",
   "execution_count": 15,
   "metadata": {},
   "outputs": [
    {
     "data": {
      "text/plain": [
       "['-15', '-14.7']"
      ]
     },
     "execution_count": 15,
     "metadata": {},
     "output_type": "execute_result"
    }
   ],
   "source": [
    "center = ref.split(\" \")\n",
    "center"
   ]
  },
  {
   "cell_type": "code",
   "execution_count": 16,
   "metadata": {},
   "outputs": [
    {
     "data": {
      "text/plain": [
       "-15.0"
      ]
     },
     "execution_count": 16,
     "metadata": {},
     "output_type": "execute_result"
    }
   ],
   "source": [
    "h = float(center[0]) #X-axis value of the reference point\n",
    "h #Not necessary"
   ]
  },
  {
   "cell_type": "code",
   "execution_count": 17,
   "metadata": {},
   "outputs": [
    {
     "data": {
      "text/plain": [
       "-14.7"
      ]
     },
     "execution_count": 17,
     "metadata": {},
     "output_type": "execute_result"
    }
   ],
   "source": [
    "k = float(center[1]) #Y-axis value of the reference point\n",
    "k #Not necessary"
   ]
  },
  {
   "cell_type": "code",
   "execution_count": 18,
   "metadata": {},
   "outputs": [
    {
     "name": "stdout",
     "output_type": "stream",
     "text": [
      "Angle of Rotation(in degree): -40.5\n"
     ]
    }
   ],
   "source": [
    "#Anti-clockwise rotation -> +\n",
    "#Clockwise rotation -> -\n",
    "\n",
    "angle = eval(input(\"Angle of Rotation(in degree): \"))"
   ]
  },
  {
   "cell_type": "code",
   "execution_count": 19,
   "metadata": {},
   "outputs": [
    {
     "data": {
      "text/plain": [
       "-0.7068583470577035"
      ]
     },
     "execution_count": 19,
     "metadata": {},
     "output_type": "execute_result"
    }
   ],
   "source": [
    "angle = (angle*math.pi)/180 #Degree to Radian\n",
    "angle #Not necessary"
   ]
  },
  {
   "cell_type": "code",
   "execution_count": 20,
   "metadata": {},
   "outputs": [],
   "source": [
    "rotated_x_list = [] #List for x-axis values of object points after rotation\n",
    "rotated_y_list = [] #List for y-axis values of object points after rotation\n",
    "\n",
    "#Object Rotation for center of rotation at point (h,k) angle of rotation=Q radian:\n",
    "for i in range (0,len(x_list)):\n",
    "    #x' = xcosQ - ysinQ + (-hcosQ + ksinQ + h):\n",
    "    temp = (x_list[i]*math.cos(angle) - y_list[i]*math.sin(angle) + (-1*h*math.cos(angle)+k*math.sin(angle)+h))\n",
    "    rotated_x_list.append(temp)\n",
    "    \n",
    "    #and y' = xsinQ + ycosQ + (-hsinQ - kcosQ + k):\n",
    "    temp = (x_list[i]*math.sin(angle) + y_list[i]*math.cos(angle) + (-1*h*math.sin(angle)-k*math.cos(angle)+k))\n",
    "    rotated_y_list.append(temp)"
   ]
  },
  {
   "cell_type": "code",
   "execution_count": 21,
   "metadata": {},
   "outputs": [
    {
     "data": {
      "text/plain": [
       "[19.78227086822614,\n",
       " 5.223599604555704,\n",
       " -11.93944444520369,\n",
       " 6.863144543042155,\n",
       " 29.920494031267808,\n",
       " 19.78227086822614]"
      ]
     },
     "execution_count": 21,
     "metadata": {},
     "output_type": "execute_result"
    }
   ],
   "source": [
    "rotated_x_list #Not necessary"
   ]
  },
  {
   "cell_type": "code",
   "execution_count": 22,
   "metadata": {},
   "outputs": [
    {
     "data": {
      "text/plain": [
       "[-13.239303847698949,\n",
       " 0.5100630845047558,\n",
       " -15.735856986270512,\n",
       " -31.13724157789396,\n",
       " -11.377468437044897,\n",
       " -13.239303847698949]"
      ]
     },
     "execution_count": 22,
     "metadata": {},
     "output_type": "execute_result"
    }
   ],
   "source": [
    "rotated_y_list #Not necessary"
   ]
  },
  {
   "cell_type": "code",
   "execution_count": 23,
   "metadata": {},
   "outputs": [
    {
     "data": {
      "image/png": "[encoded data removed]",
      "text/plain": [
       "<Figure size 432x288 with 1 Axes>"
      ]
     },
     "metadata": {},
     "output_type": "display_data"
    }
   ],
   "source": [
    "printRaster() #Calling function to for the raster\n",
    "\n",
    "#Just for visual understanding, joining each corner points of the original and rotated objects with the center of rotation:\n",
    "for i in range (0, num_points):\n",
    "    plt.plot([h,x_list[i]], [k,y_list[i]], color='#0099ff', linestyle='dotted') #For original object\n",
    "    plt.plot([h,rotated_x_list[i]], [k,rotated_y_list[i]], color='#004d00', linestyle='dotted') #For rotated object\n",
    "\n",
    "plt.title(\"2D Geometric Rotation\") #Title of the figure\n",
    "plt.plot(h, k, label=\"ref. point\", marker='o', color='orange') #Plotting the center of rotation\n",
    "\n",
    "#Plotting and joining each corner point...\n",
    "plt.plot(x_list, y_list, label=\"previous\", marker='x', color='blue', linestyle='--') #of the original object,\n",
    "plt.plot(rotated_x_list, rotated_y_list, label=\"after\", marker='o', color='#004d00') #and the rotated object.\n",
    "\n",
    "plt.legend()\n",
    "plt.show()"
   ]
  },
  {
   "cell_type": "code",
   "execution_count": null,
   "metadata": {},
   "outputs": [],
   "source": []
  }
 ],
 "metadata": {
  "kernelspec": {
   "display_name": "Python 3",
   "language": "python",
   "name": "python3"
  },
  "language_info": {
   "codemirror_mode": {
    "name": "ipython",
    "version": 3
   },
   "file_extension": ".py",
   "mimetype": "text/x-python",
   "name": "python",
   "nbconvert_exporter": "python",
   "pygments_lexer": "ipython3",
   "version": "3.6.4"
  }
 },
 "nbformat": 4,
 "nbformat_minor": 2
}

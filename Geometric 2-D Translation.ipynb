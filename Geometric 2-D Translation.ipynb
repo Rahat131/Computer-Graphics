{
 "cells": [
  {
   "cell_type": "code",
   "execution_count": 1,
   "metadata": {},
   "outputs": [
    {
     "data": {
      "text/plain": [
       "'\\nFile: 2 Dimensional Geometric Translation,\\nAuthor: ABDUL HASIB UDDIN,\\nE-mail: abdulhasibuddin@gmail.com,\\nLicence: MIT\\n'"
      ]
     },
     "execution_count": 1,
     "metadata": {},
     "output_type": "execute_result"
    }
   ],
   "source": [
    "'''\n",
    "File: 2 Dimensional Geometric Translation,\n",
    "Author: ABDUL HASIB UDDIN,\n",
    "E-mail: abdulhasibuddin@gmail.com,\n",
    "Licence: MIT\n",
    "'''"
   ]
  },
  {
   "cell_type": "code",
   "execution_count": 2,
   "metadata": {},
   "outputs": [],
   "source": [
    "import matplotlib.pyplot as plt\n",
    "import numpy as np"
   ]
  },
  {
   "cell_type": "code",
   "execution_count": 3,
   "metadata": {},
   "outputs": [
    {
     "name": "stdout",
     "output_type": "stream",
     "text": [
      "Enter Raster Size: 40\n"
     ]
    }
   ],
   "source": [
    "rasterSize = eval(input(\"Enter Raster Size: \"))"
   ]
  },
  {
   "cell_type": "code",
   "execution_count": 4,
   "metadata": {},
   "outputs": [],
   "source": [
    "def printRaster():\n",
    "    plt.grid()\n",
    "    plt.xlabel(\"X-axis\")\n",
    "    plt.ylabel(\"Y-axis\")\n",
    "    plt.plot([0.0,0.0], [-1.0*(rasterSize/2),(rasterSize/2)], color=\"black\")\n",
    "    plt.plot([-1.0*(rasterSize/2),(rasterSize/2)], [0.0,0.0], color=\"black\")"
   ]
  },
  {
   "cell_type": "code",
   "execution_count": 5,
   "metadata": {},
   "outputs": [
    {
     "data": {
      "image/png": "[encoded data removed]",
      "text/plain": [
       "<Figure size 432x288 with 1 Axes>"
      ]
     },
     "metadata": {},
     "output_type": "display_data"
    }
   ],
   "source": [
    "printRaster()\n",
    "plt.show()"
   ]
  },
  {
   "cell_type": "code",
   "execution_count": 6,
   "metadata": {},
   "outputs": [
    {
     "name": "stdout",
     "output_type": "stream",
     "text": [
      "Enter coordinates: 10.5 9 -9.5 10 -12 -13.5 12.3 -13 17 17\n"
     ]
    }
   ],
   "source": [
    "input_points = input(\"Enter coordinates: \")"
   ]
  },
  {
   "cell_type": "code",
   "execution_count": 7,
   "metadata": {},
   "outputs": [],
   "source": [
    "points = input_points.split(\" \")"
   ]
  },
  {
   "cell_type": "code",
   "execution_count": 8,
   "metadata": {},
   "outputs": [],
   "source": [
    "x_list = [] #List for x-axis values of object points\n",
    "y_list = [] #List for y-axis values of object points\n",
    "\n",
    "#Convert the elements into float and split them into x & y co-ordinate values:\n",
    "for i in range (0, len(points)):\n",
    "    temp = float(points[i])\n",
    "    \n",
    "    if i%2 == 0: #If the position of current found string is even, then it is the value of x co-ordinate...\n",
    "        x_list.append(temp) #convert it into floating point from string and append into 'x_list';\n",
    "    else: #otherwise, it is the value of y co-ordinate...\n",
    "        y_list.append(temp) #convert it into floating point from string and append into 'y_list'."
   ]
  },
  {
   "cell_type": "code",
   "execution_count": 9,
   "metadata": {},
   "outputs": [],
   "source": [
    "x_list.append(x_list[0])"
   ]
  },
  {
   "cell_type": "code",
   "execution_count": 10,
   "metadata": {},
   "outputs": [],
   "source": [
    "y_list.append(y_list[0])"
   ]
  },
  {
   "cell_type": "code",
   "execution_count": 11,
   "metadata": {},
   "outputs": [
    {
     "data": {
      "image/png": "[encoded data removed]",
      "text/plain": [
       "<Figure size 432x288 with 1 Axes>"
      ]
     },
     "metadata": {},
     "output_type": "display_data"
    }
   ],
   "source": [
    "printRaster()\n",
    "plt.title(\"Object before Translation\")\n",
    "plt.plot(x_list, y_list, label=\"previous\", marker='o', color='blue')\n",
    "plt.legend()\n",
    "plt.show()"
   ]
  },
  {
   "cell_type": "code",
   "execution_count": 12,
   "metadata": {},
   "outputs": [],
   "source": [
    "trans_x_list = []\n",
    "trans_y_list = []"
   ]
  },
  {
   "cell_type": "code",
   "execution_count": 13,
   "metadata": {},
   "outputs": [
    {
     "name": "stdout",
     "output_type": "stream",
     "text": [
      "Transfer towards x-axis: -15\n",
      "Transfer towards y-axis: -14.7\n"
     ]
    }
   ],
   "source": [
    "tx = eval(input(\"Transfer towards x-axis: \"))\n",
    "ty = eval(input(\"Transfer towards y-axis: \"))"
   ]
  },
  {
   "cell_type": "code",
   "execution_count": 14,
   "metadata": {},
   "outputs": [],
   "source": [
    "for i in x_list:\n",
    "    trans_x_list.append(i+float(tx))"
   ]
  },
  {
   "cell_type": "code",
   "execution_count": 15,
   "metadata": {},
   "outputs": [],
   "source": [
    "for i in y_list:\n",
    "    trans_y_list.append(i+float(ty))"
   ]
  },
  {
   "cell_type": "code",
   "execution_count": 16,
   "metadata": {},
   "outputs": [
    {
     "data": {
      "text/plain": [
       "[-4.5, -24.5, -27.0, -2.6999999999999993, 2.0, -4.5]"
      ]
     },
     "execution_count": 16,
     "metadata": {},
     "output_type": "execute_result"
    }
   ],
   "source": [
    "trans_x_list"
   ]
  },
  {
   "cell_type": "code",
   "execution_count": 17,
   "metadata": {},
   "outputs": [
    {
     "data": {
      "text/plain": [
       "[-5.699999999999999,\n",
       " -4.699999999999999,\n",
       " -28.2,\n",
       " -27.7,\n",
       " 2.3000000000000007,\n",
       " -5.699999999999999]"
      ]
     },
     "execution_count": 17,
     "metadata": {},
     "output_type": "execute_result"
    }
   ],
   "source": [
    "trans_y_list"
   ]
  },
  {
   "cell_type": "code",
   "execution_count": 18,
   "metadata": {},
   "outputs": [
    {
     "data": {
      "image/png": "[encoded data removed]",
      "text/plain": [
       "<Figure size 432x288 with 1 Axes>"
      ]
     },
     "metadata": {},
     "output_type": "display_data"
    }
   ],
   "source": [
    "printRaster()\n",
    "\n",
    "plt.title(\"2D Geometric Translation\")\n",
    "plt.plot(x_list, y_list, label=\"previous\", marker='x', color='blue', linestyle='dotted')\n",
    "plt.plot(trans_x_list, trans_y_list, label=\"after\", marker='o', color='green')\n",
    "plt.legend()\n",
    "plt.show()"
   ]
  },
  {
   "cell_type": "code",
   "execution_count": null,
   "metadata": {},
   "outputs": [],
   "source": []
  }
 ],
 "metadata": {
  "kernelspec": {
   "display_name": "Python 3",
   "language": "python",
   "name": "python3"
  },
  "language_info": {
   "codemirror_mode": {
    "name": "ipython",
    "version": 3
   },
   "file_extension": ".py",
   "mimetype": "text/x-python",
   "name": "python",
   "nbconvert_exporter": "python",
   "pygments_lexer": "ipython3",
   "version": "3.6.4"
  }
 },
 "nbformat": 4,
 "nbformat_minor": 2
}
